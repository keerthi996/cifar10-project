{
 "cells": [
  {
   "cell_type": "code",
   "execution_count": 6,
   "metadata": {},
   "outputs": [],
   "source": [
    "import tensorflow as tf \n",
    "import tensorflow_datasets as tfds\n",
    "from PIL import Image\n",
    "from tensorflow.keras import layers"
   ]
  },
  {
   "cell_type": "code",
   "execution_count": 7,
   "metadata": {},
   "outputs": [
    {
     "ename": "PermissionError",
     "evalue": "[Errno 13] Permission denied: './cifar10/train/airplane'",
     "output_type": "error",
     "traceback": [
      "\u001b[1;31m---------------------------------------------------------------------------\u001b[0m",
      "\u001b[1;31mPermissionError\u001b[0m                           Traceback (most recent call last)",
      "Cell \u001b[1;32mIn[7], line 1\u001b[0m\n\u001b[1;32m----> 1\u001b[0m img\u001b[39m=\u001b[39mImage\u001b[39m.\u001b[39;49mopen(\u001b[39m\"\u001b[39;49m\u001b[39m./cifar10/train/airplane\u001b[39;49m\u001b[39m\"\u001b[39;49m)\n",
      "File \u001b[1;32mc:\\Users\\malli\\AppData\\Local\\Programs\\Python\\Python310\\lib\\site-packages\\PIL\\Image.py:3131\u001b[0m, in \u001b[0;36mopen\u001b[1;34m(fp, mode, formats)\u001b[0m\n\u001b[0;32m   3128\u001b[0m     filename \u001b[39m=\u001b[39m fp\n\u001b[0;32m   3130\u001b[0m \u001b[39mif\u001b[39;00m filename:\n\u001b[1;32m-> 3131\u001b[0m     fp \u001b[39m=\u001b[39m builtins\u001b[39m.\u001b[39;49mopen(filename, \u001b[39m\"\u001b[39;49m\u001b[39mrb\u001b[39;49m\u001b[39m\"\u001b[39;49m)\n\u001b[0;32m   3132\u001b[0m     exclusive_fp \u001b[39m=\u001b[39m \u001b[39mTrue\u001b[39;00m\n\u001b[0;32m   3134\u001b[0m \u001b[39mtry\u001b[39;00m:\n",
      "\u001b[1;31mPermissionError\u001b[0m: [Errno 13] Permission denied: './cifar10/train/airplane'"
     ]
    }
   ],
   "source": [
    "img=Image.open(\"./cifar10/train/airplane\")"
   ]
  },
  {
   "cell_type": "code",
   "execution_count": 8,
   "metadata": {},
   "outputs": [
    {
     "name": "stdout",
     "output_type": "stream",
     "text": [
      "Found 50000 files belonging to 10 classes.\n"
     ]
    }
   ],
   "source": [
    "data=tf.keras.utils.image_dataset_from_directory(\n",
    "    \"./cifar10/train\",\n",
    "    image_size=(32,32),\n",
    "    color_mode=\"rgb\",\n",
    "    batch_size=500\n",
    ")"
   ]
  },
  {
   "cell_type": "code",
   "execution_count": 9,
   "metadata": {},
   "outputs": [
    {
     "name": "stdout",
     "output_type": "stream",
     "text": [
      "(500, 32, 32, 3) (500, 10)\n"
     ]
    }
   ],
   "source": [
    "for images,labels in data:\n",
    "    labels=tf.one_hot(labels,10)\n",
    "    print(images.shape,labels.shape)\n",
    "    break"
   ]
  },
  {
   "cell_type": "code",
   "execution_count": 13,
   "metadata": {},
   "outputs": [],
   "source": [
    "model=tf.keras.Sequential([\n",
    "    layers.Conv2D(18,3,input_shape=(32,32,3),activation=\"leaky_relu\"),\n",
    "    layers.MaxPool2D(),\n",
    "    layers.Conv2D(36,3,activation=\"leaky_relu\"),\n",
    "    layers.MaxPool2D(),\n",
    "    layers.Flatten(),\n",
    "    layers.Dense(10),\n",
    "    layers.Activation(\"softmax\")\n",
    "])"
   ]
  },
  {
   "cell_type": "code",
   "execution_count": 14,
   "metadata": {},
   "outputs": [],
   "source": [
    "model.compile(\n",
    "    loss=tf.keras.losses.categorical_crossentropy,\n",
    "    optimizer=tf.keras.optimizers.Adam(),\n",
    "    metrics=[\"accuracy\"]\n",
    ")"
   ]
  },
  {
   "cell_type": "code",
   "execution_count": 17,
   "metadata": {},
   "outputs": [
    {
     "name": "stdout",
     "output_type": "stream",
     "text": [
      "Epoch 1/10\n",
      "16/16 [==============================] - 0s 15ms/step - loss: 1.2934 - accuracy: 0.5640\n",
      "Epoch 2/10\n",
      "16/16 [==============================] - 0s 14ms/step - loss: 1.2008 - accuracy: 0.5800\n",
      "Epoch 3/10\n",
      "16/16 [==============================] - 0s 13ms/step - loss: 1.1075 - accuracy: 0.6320\n",
      "Epoch 4/10\n",
      "16/16 [==============================] - 0s 12ms/step - loss: 1.0433 - accuracy: 0.6460\n",
      "Epoch 5/10\n",
      "16/16 [==============================] - 0s 12ms/step - loss: 0.9609 - accuracy: 0.7000\n",
      "Epoch 6/10\n",
      "16/16 [==============================] - 0s 13ms/step - loss: 0.9069 - accuracy: 0.7160\n",
      "Epoch 7/10\n",
      "16/16 [==============================] - 0s 13ms/step - loss: 0.8519 - accuracy: 0.7620\n",
      "Epoch 8/10\n",
      "16/16 [==============================] - 0s 14ms/step - loss: 0.8742 - accuracy: 0.7000\n",
      "Epoch 9/10\n",
      "16/16 [==============================] - 0s 16ms/step - loss: 0.8059 - accuracy: 0.7560\n",
      "Epoch 10/10\n",
      "16/16 [==============================] - 0s 13ms/step - loss: 0.7304 - accuracy: 0.7800\n"
     ]
    }
   ],
   "source": [
    "for fea,labels in data:\n",
    "    fea=tf.divide(fea,255)\n",
    "    labels=tf.one_hot(labels,10)\n",
    "    record=model.fit(fea,labels,epochs=10)\n",
    "    break"
   ]
  }
 ],
 "metadata": {
  "kernelspec": {
   "display_name": "Python 3",
   "language": "python",
   "name": "python3"
  },
  "language_info": {
   "codemirror_mode": {
    "name": "ipython",
    "version": 3
   },
   "file_extension": ".py",
   "mimetype": "text/x-python",
   "name": "python",
   "nbconvert_exporter": "python",
   "pygments_lexer": "ipython3",
   "version": "3.10.7"
  },
  "orig_nbformat": 4,
  "vscode": {
   "interpreter": {
    "hash": "f5d699ed7033eb9bc3126255fcdeda0e5e418da259f29be46e4ae73b871cb644"
   }
  }
 },
 "nbformat": 4,
 "nbformat_minor": 2
}
