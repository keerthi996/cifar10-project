{
 "cells": [
  {
   "cell_type": "code",
   "execution_count": 6,
   "metadata": {},
   "outputs": [],
   "source": [
    "import tensorflow as tf \n",
    "import tensorflow_datasets as tfds\n",
    "from PIL import Image\n",
    "from tensorflow.keras import layers"
   ]
  },
  {
   "cell_type": "code",
   "execution_count": 8,
   "metadata": {},
   "outputs": [
    {
     "name": "stdout",
     "output_type": "stream",
     "text": [
      "Found 50000 files belonging to 10 classes.\n"
     ]
    }
   ],
   "source": [
    "data=tf.keras.utils.image_dataset_from_directory(\n",
    "    \"./cifar10/train\",\n",
    "    image_size=(32,32),\n",
    "    color_mode=\"rgb\",\n",
    "    batch_size=500\n",
    ")"
   ]
  },
  {
   "cell_type": "code",
   "execution_count": 9,
   "metadata": {},
   "outputs": [
    {
     "name": "stdout",
     "output_type": "stream",
     "text": [
      "(500, 32, 32, 3) (500, 10)\n"
     ]
    }
   ],
   "source": [
    "for images,labels in data:\n",
    "    labels=tf.one_hot(labels,10)\n",
    "    print(images.shape,labels.shape)\n",
    "    break"
   ]
  },
  {
   "cell_type": "code",
   "execution_count": 13,
   "metadata": {},
   "outputs": [],
   "source": [
    "model=tf.keras.Sequential([\n",
    "    layers.Conv2D(18,3,input_shape=(32,32,3),activation=\"leaky_relu\"),\n",
    "    layers.MaxPool2D(),\n",
    "    layers.Conv2D(36,3,activation=\"leaky_relu\"),\n",
    "    layers.MaxPool2D(),\n",
    "    layers.Flatten(),\n",
    "    layers.Dense(10),\n",
    "    layers.Activation(\"softmax\")\n",
    "])"
   ]
  },
  {
   "cell_type": "code",
   "execution_count": 14,
   "metadata": {},
   "outputs": [],
   "source": [
    "model.compile(\n",
    "    loss=tf.keras.losses.categorical_crossentropy,\n",
    "    optimizer=tf.keras.optimizers.Adam(),\n",
    "    metrics=[\"accuracy\"]\n",
    ")"
   ]
  },
  {
   "cell_type": "code",
   "execution_count": 17,
   "metadata": {},
   "outputs": [
    {
     "name": "stdout",
     "output_type": "stream",
     "text": [
      "Epoch 1/10\n",
      "16/16 [==============================] - 0s 15ms/step - loss: 1.2934 - accuracy: 0.5640\n",
      "Epoch 2/10\n",
      "16/16 [==============================] - 0s 14ms/step - loss: 1.2008 - accuracy: 0.5800\n",
      "Epoch 3/10\n",
      "16/16 [==============================] - 0s 13ms/step - loss: 1.1075 - accuracy: 0.6320\n",
      "Epoch 4/10\n",
      "16/16 [==============================] - 0s 12ms/step - loss: 1.0433 - accuracy: 0.6460\n",
      "Epoch 5/10\n",
      "16/16 [==============================] - 0s 12ms/step - loss: 0.9609 - accuracy: 0.7000\n",
      "Epoch 6/10\n",
      "16/16 [==============================] - 0s 13ms/step - loss: 0.9069 - accuracy: 0.7160\n",
      "Epoch 7/10\n",
      "16/16 [==============================] - 0s 13ms/step - loss: 0.8519 - accuracy: 0.7620\n",
      "Epoch 8/10\n",
      "16/16 [==============================] - 0s 14ms/step - loss: 0.8742 - accuracy: 0.7000\n",
      "Epoch 9/10\n",
      "16/16 [==============================] - 0s 16ms/step - loss: 0.8059 - accuracy: 0.7560\n",
      "Epoch 10/10\n",
      "16/16 [==============================] - 0s 13ms/step - loss: 0.7304 - accuracy: 0.7800\n"
     ]
    }
   ],
   "source": [
    "for fea,labels in data:\n",
    "    fea=tf.divide(fea,255)\n",
    "    labels=tf.one_hot(labels,10)\n",
    "    record=model.fit(fea,labels,epochs=10)\n",
    "    break"
   ]
  }
 ],
 "metadata": {
  "kernelspec": {
   "display_name": "Python 3",
   "language": "python",
   "name": "python3"
  },
  "language_info": {
   "codemirror_mode": {
    "name": "ipython",
    "version": 3
   },
   "file_extension": ".py",
   "mimetype": "text/x-python",
   "name": "python",
   "nbconvert_exporter": "python",
   "pygments_lexer": "ipython3",
   "version": "3.10.7"
  },
  "orig_nbformat": 4,
  "vscode": {
   "interpreter": {
    "hash": "f5d699ed7033eb9bc3126255fcdeda0e5e418da259f29be46e4ae73b871cb644"
   }
  }
 },
 "nbformat": 4,
 "nbformat_minor": 2
}
